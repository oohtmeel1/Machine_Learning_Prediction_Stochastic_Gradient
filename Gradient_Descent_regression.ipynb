{
 "cells": [
  {
   "cell_type": "markdown",
   "metadata": {},
   "source": [
    "# Stochastic Gradient Descent\n",
    "The Data has already been processed earlier. \n",
    "So I will use what I have."
   ]
  },
  {
   "cell_type": "markdown",
   "metadata": {},
   "source": [
    "## A First Pass"
   ]
  },
  {
   "cell_type": "code",
   "execution_count": 14,
   "metadata": {},
   "outputs": [],
   "source": [
    "\n",
    "from sklearn.pipeline import make_pipeline\n",
    "from sklearn.preprocessing import StandardScaler\n",
    "import pandas as pd\n",
    "import numpy as np\n",
    "import os\n",
    "from sklearn.utils import shuffle\n",
    "import matplotlib.pyplot as plt \n",
    "from sklearn.metrics import mean_absolute_error\n",
    "from sklearn.metrics import mean_squared_error\n",
    "from sklearn.metrics import explained_variance_score\n",
    "from sklearn.metrics import r2_score\n",
    "import random \n",
    "random.seed(0)\n",
    "\n",
    "pd.options.display.float_format = '{:.2f}'.format"
   ]
  },
  {
   "cell_type": "code",
   "execution_count": 15,
   "metadata": {},
   "outputs": [],
   "source": [
    "os.getcwd()\n",
    "#os.chdir('c:\\\\Users\\\\amcfa\\\\gitfiles\\\\Projects\\\\MastersWork\\\\shorter_ML_Projects\\\\Machine-Learning-_-Prediction')\n",
    "X1=pd.read_csv(os.getcwd()+ '/X1.csv')\n",
    "X2=pd.read_csv(os.getcwd()+ '/X2.csv')\n",
    "from sklearn.utils import shuffle\n",
    "X1 = shuffle(X1)\n",
    "X2=shuffle(X2)\n",
    "y_train=X1['Data_x'].reset_index(drop=True) # Separating all of the data\n",
    "y_test=X2['Data_x'].reset_index(drop=True)\n",
    "X_train = X1.iloc[:,3: ]\n",
    "X_test = X2.iloc[:,3: ]"
   ]
  },
  {
   "cell_type": "code",
   "execution_count": 3,
   "metadata": {},
   "outputs": [
    {
     "data": {
      "text/html": [
       "<div>\n",
       "<style scoped>\n",
       "    .dataframe tbody tr th:only-of-type {\n",
       "        vertical-align: middle;\n",
       "    }\n",
       "\n",
       "    .dataframe tbody tr th {\n",
       "        vertical-align: top;\n",
       "    }\n",
       "\n",
       "    .dataframe thead th {\n",
       "        text-align: right;\n",
       "    }\n",
       "</style>\n",
       "<table border=\"1\" class=\"dataframe\">\n",
       "  <thead>\n",
       "    <tr style=\"text-align: right;\">\n",
       "      <th></th>\n",
       "      <th>GERCB</th>\n",
       "      <th>HLRCV</th>\n",
       "      <th>LORCB</th>\n",
       "      <th>NGRCV</th>\n",
       "      <th>PERCV</th>\n",
       "      <th>PQRCB</th>\n",
       "      <th>PQRCP</th>\n",
       "      <th>PQRCV</th>\n",
       "      <th>SORCB</th>\n",
       "      <th>SOTXB</th>\n",
       "      <th>TERCB</th>\n",
       "      <th>TERCV</th>\n",
       "      <th>TNRCB</th>\n",
       "      <th>TNRSB</th>\n",
       "      <th>WDRCV</th>\n",
       "      <th>StateCode</th>\n",
       "      <th>Year1</th>\n",
       "    </tr>\n",
       "  </thead>\n",
       "  <tbody>\n",
       "    <tr>\n",
       "      <th>1309</th>\n",
       "      <td>11.00</td>\n",
       "      <td>134.60</td>\n",
       "      <td>135735.00</td>\n",
       "      <td>254.90</td>\n",
       "      <td>397.60</td>\n",
       "      <td>0.00</td>\n",
       "      <td>0.00</td>\n",
       "      <td>0.00</td>\n",
       "      <td>9.00</td>\n",
       "      <td>9.00</td>\n",
       "      <td>231589.00</td>\n",
       "      <td>1841.10</td>\n",
       "      <td>95854.00</td>\n",
       "      <td>93731.00</td>\n",
       "      <td>7.00</td>\n",
       "      <td>25</td>\n",
       "      <td>34</td>\n",
       "    </tr>\n",
       "    <tr>\n",
       "      <th>1314</th>\n",
       "      <td>27.00</td>\n",
       "      <td>203.90</td>\n",
       "      <td>122024.00</td>\n",
       "      <td>263.60</td>\n",
       "      <td>486.40</td>\n",
       "      <td>0.00</td>\n",
       "      <td>0.00</td>\n",
       "      <td>0.00</td>\n",
       "      <td>12.00</td>\n",
       "      <td>12.00</td>\n",
       "      <td>221214.00</td>\n",
       "      <td>2336.30</td>\n",
       "      <td>99190.00</td>\n",
       "      <td>95794.00</td>\n",
       "      <td>17.40</td>\n",
       "      <td>25</td>\n",
       "      <td>39</td>\n",
       "    </tr>\n",
       "    <tr>\n",
       "      <th>2388</th>\n",
       "      <td>29.00</td>\n",
       "      <td>159.40</td>\n",
       "      <td>5666.00</td>\n",
       "      <td>50.40</td>\n",
       "      <td>507.70</td>\n",
       "      <td>5026.00</td>\n",
       "      <td>1308.00</td>\n",
       "      <td>159.40</td>\n",
       "      <td>190.00</td>\n",
       "      <td>229.00</td>\n",
       "      <td>37058.00</td>\n",
       "      <td>864.10</td>\n",
       "      <td>31392.00</td>\n",
       "      <td>28249.00</td>\n",
       "      <td>45.90</td>\n",
       "      <td>46</td>\n",
       "      <td>42</td>\n",
       "    </tr>\n",
       "    <tr>\n",
       "      <th>1156</th>\n",
       "      <td>1545.00</td>\n",
       "      <td>816.70</td>\n",
       "      <td>269339.00</td>\n",
       "      <td>3084.40</td>\n",
       "      <td>4080.70</td>\n",
       "      <td>0.00</td>\n",
       "      <td>0.00</td>\n",
       "      <td>0.00</td>\n",
       "      <td>224.00</td>\n",
       "      <td>224.00</td>\n",
       "      <td>836392.00</td>\n",
       "      <td>6839.30</td>\n",
       "      <td>567052.00</td>\n",
       "      <td>555201.00</td>\n",
       "      <td>24.30</td>\n",
       "      <td>22</td>\n",
       "      <td>34</td>\n",
       "    </tr>\n",
       "    <tr>\n",
       "      <th>1184</th>\n",
       "      <td>0.00</td>\n",
       "      <td>77.50</td>\n",
       "      <td>98124.00</td>\n",
       "      <td>392.50</td>\n",
       "      <td>725.90</td>\n",
       "      <td>0.00</td>\n",
       "      <td>0.00</td>\n",
       "      <td>0.00</td>\n",
       "      <td>0.00</td>\n",
       "      <td>0.00</td>\n",
       "      <td>288524.00</td>\n",
       "      <td>1450.20</td>\n",
       "      <td>190400.00</td>\n",
       "      <td>179268.00</td>\n",
       "      <td>8.40</td>\n",
       "      <td>23</td>\n",
       "      <td>11</td>\n",
       "    </tr>\n",
       "  </tbody>\n",
       "</table>\n",
       "</div>"
      ],
      "text/plain": [
       "       GERCB  HLRCV     LORCB   NGRCV   PERCV   PQRCB   PQRCP  PQRCV  SORCB  \\\n",
       "1309   11.00 134.60 135735.00  254.90  397.60    0.00    0.00   0.00   9.00   \n",
       "1314   27.00 203.90 122024.00  263.60  486.40    0.00    0.00   0.00  12.00   \n",
       "2388   29.00 159.40   5666.00   50.40  507.70 5026.00 1308.00 159.40 190.00   \n",
       "1156 1545.00 816.70 269339.00 3084.40 4080.70    0.00    0.00   0.00 224.00   \n",
       "1184    0.00  77.50  98124.00  392.50  725.90    0.00    0.00   0.00   0.00   \n",
       "\n",
       "      SOTXB     TERCB   TERCV     TNRCB     TNRSB  WDRCV  StateCode  Year1  \n",
       "1309   9.00 231589.00 1841.10  95854.00  93731.00   7.00         25     34  \n",
       "1314  12.00 221214.00 2336.30  99190.00  95794.00  17.40         25     39  \n",
       "2388 229.00  37058.00  864.10  31392.00  28249.00  45.90         46     42  \n",
       "1156 224.00 836392.00 6839.30 567052.00 555201.00  24.30         22     34  \n",
       "1184   0.00 288524.00 1450.20 190400.00 179268.00   8.40         23     11  "
      ]
     },
     "execution_count": 3,
     "metadata": {},
     "output_type": "execute_result"
    }
   ],
   "source": [
    "X_train.head()"
   ]
  },
  {
   "cell_type": "markdown",
   "metadata": {},
   "source": [
    "Created a pipeline here."
   ]
  },
  {
   "cell_type": "code",
   "execution_count": 4,
   "metadata": {},
   "outputs": [],
   "source": [
    "import numpy as np\n",
    "from sklearn.linear_model import SGDRegressor\n",
    "from sklearn.pipeline import make_pipeline\n",
    "from sklearn.preprocessing import StandardScaler\n",
    "\n",
    "reg = make_pipeline(StandardScaler(),\n",
    "                    SGDRegressor())\n",
    "y_pred=reg.fit(X_train, y_train).predict(X_test)"
   ]
  },
  {
   "cell_type": "code",
   "execution_count": 5,
   "metadata": {},
   "outputs": [
    {
     "data": {
      "text/html": [
       "<div>\n",
       "<style scoped>\n",
       "    .dataframe tbody tr th:only-of-type {\n",
       "        vertical-align: middle;\n",
       "    }\n",
       "\n",
       "    .dataframe tbody tr th {\n",
       "        vertical-align: top;\n",
       "    }\n",
       "\n",
       "    .dataframe thead th {\n",
       "        text-align: right;\n",
       "    }\n",
       "</style>\n",
       "<table border=\"1\" class=\"dataframe\">\n",
       "  <thead>\n",
       "    <tr style=\"text-align: right;\">\n",
       "      <th></th>\n",
       "      <th>true</th>\n",
       "      <th>predicted</th>\n",
       "      <th>how_off</th>\n",
       "    </tr>\n",
       "  </thead>\n",
       "  <tbody>\n",
       "    <tr>\n",
       "      <th>0</th>\n",
       "      <td>958.10</td>\n",
       "      <td>958.02</td>\n",
       "      <td>0.01</td>\n",
       "    </tr>\n",
       "    <tr>\n",
       "      <th>1</th>\n",
       "      <td>623.90</td>\n",
       "      <td>624.53</td>\n",
       "      <td>-0.10</td>\n",
       "    </tr>\n",
       "  </tbody>\n",
       "</table>\n",
       "</div>"
      ],
      "text/plain": [
       "    true  predicted  how_off\n",
       "0 958.10     958.02     0.01\n",
       "1 623.90     624.53    -0.10"
      ]
     },
     "execution_count": 5,
     "metadata": {},
     "output_type": "execute_result"
    }
   ],
   "source": [
    "y_true =y_test\n",
    "results_trial1=pd.DataFrame(y_pred,y_true).reset_index()\n",
    "results_trial1=pd.DataFrame(y_pred,y_true).reset_index()\n",
    "results_trial1=results_trial1.rename(columns={'Data_x':'true',0:'predicted'})\n",
    "results_trial1['how_off']= ((results_trial1['true']-results_trial1['predicted'])/results_trial1['true'])*100\n",
    "results_trial1.head(2)\n"
   ]
  },
  {
   "cell_type": "markdown",
   "metadata": {},
   "source": [
    "The results were actually really good right out of the box\n"
   ]
  },
  {
   "cell_type": "code",
   "execution_count": 6,
   "metadata": {},
   "outputs": [
    {
     "data": {
      "text/plain": [
       "<matplotlib.legend.Legend at 0x24880d51c70>"
      ]
     },
     "execution_count": 6,
     "metadata": {},
     "output_type": "execute_result"
    },
    {
     "data": {
      "image/png": "[encoded data removed]",
      "text/plain": [
       "<Figure size 640x480 with 1 Axes>"
      ]
     },
     "metadata": {},
     "output_type": "display_data"
    }
   ],
   "source": [
    "r1 = np.arange(len(results_trial1['true']))\n",
    "\n",
    "plt.bar(r1, results_trial1['true'], color='#7f6d5f', edgecolor='white', label='true values')\n",
    "plt.scatter(r1, results_trial1['predicted'], color='#557f2d', edgecolor='white', label='predicted values')\n",
    "plt.xlabel('Run #')\n",
    "plt.ylabel('Predicted Values')\n",
    "plt.title('Predicted value vs true value')\n",
    "\n",
    "plt.legend()"
   ]
  },
  {
   "cell_type": "code",
   "execution_count": 7,
   "metadata": {},
   "outputs": [
    {
     "name": "stdout",
     "output_type": "stream",
     "text": [
      "Mean absolute Error 2.4909384864256037\n",
      "Mean squared error 17.78716810043627\n",
      "('Explained variance score', 0.999999052394054)\n",
      "('R_2 score', 0.9999990271030984)\n"
     ]
    }
   ],
   "source": [
    "print('Mean absolute Error',mean_absolute_error(y_true, y_pred))\n",
    "print('Mean squared error', mean_squared_error(y_true, y_pred))\n",
    "print(('Explained variance score',explained_variance_score(y_true, y_pred)))\n",
    "print(('R_2 score',r2_score(y_true, y_pred)))"
   ]
  },
  {
   "cell_type": "markdown",
   "metadata": {},
   "source": [
    "## Parameter Optimazation\n",
    "\n",
    "Did not expect the model to perform so well. \n",
    "So there does not need to be much done at all. \n",
    "\n"
   ]
  },
  {
   "cell_type": "code",
   "execution_count": 8,
   "metadata": {},
   "outputs": [
    {
     "name": "stderr",
     "output_type": "stream",
     "text": [
      "c:\\Users\\amcfa\\gitfiles\\Projects\\MastersWork\\Short_ML_GradientDescent\\.venv\\Lib\\site-packages\\sklearn\\linear_model\\_stochastic_gradient.py:1575: ConvergenceWarning: Maximum number of iteration reached before convergence. Consider increasing max_iter to improve the fit.\n",
      "  warnings.warn(\n"
     ]
    }
   ],
   "source": [
    "reg = make_pipeline(StandardScaler(),\n",
    "                    SGDRegressor(max_iter=500,loss='huber'))\n",
    "y_pred=reg.fit(X_train, y_train).predict(X_test)"
   ]
  },
  {
   "cell_type": "code",
   "execution_count": 9,
   "metadata": {},
   "outputs": [
    {
     "data": {
      "text/html": [
       "<div>\n",
       "<style scoped>\n",
       "    .dataframe tbody tr th:only-of-type {\n",
       "        vertical-align: middle;\n",
       "    }\n",
       "\n",
       "    .dataframe tbody tr th {\n",
       "        vertical-align: top;\n",
       "    }\n",
       "\n",
       "    .dataframe thead th {\n",
       "        text-align: right;\n",
       "    }\n",
       "</style>\n",
       "<table border=\"1\" class=\"dataframe\">\n",
       "  <thead>\n",
       "    <tr style=\"text-align: right;\">\n",
       "      <th></th>\n",
       "      <th>true</th>\n",
       "      <th>predicted</th>\n",
       "      <th>how_off</th>\n",
       "    </tr>\n",
       "  </thead>\n",
       "  <tbody>\n",
       "    <tr>\n",
       "      <th>0</th>\n",
       "      <td>958.10</td>\n",
       "      <td>51.35</td>\n",
       "      <td>94.64</td>\n",
       "    </tr>\n",
       "    <tr>\n",
       "      <th>1</th>\n",
       "      <td>623.90</td>\n",
       "      <td>51.51</td>\n",
       "      <td>91.74</td>\n",
       "    </tr>\n",
       "  </tbody>\n",
       "</table>\n",
       "</div>"
      ],
      "text/plain": [
       "    true  predicted  how_off\n",
       "0 958.10      51.35    94.64\n",
       "1 623.90      51.51    91.74"
      ]
     },
     "execution_count": 9,
     "metadata": {},
     "output_type": "execute_result"
    }
   ],
   "source": [
    "y_true =y_test\n",
    "results_trial1=pd.DataFrame(y_pred,y_true).reset_index()\n",
    "results_trial1=pd.DataFrame(y_pred,y_true).reset_index()\n",
    "results_trial1=results_trial1.rename(columns={'Data_x':'true',0:'predicted'})\n",
    "results_trial1['how_off']= ((results_trial1['true']-results_trial1['predicted'])/results_trial1['true'])*100\n",
    "results_trial1.head(2)"
   ]
  },
  {
   "cell_type": "code",
   "execution_count": 10,
   "metadata": {},
   "outputs": [
    {
     "name": "stdout",
     "output_type": "stream",
     "text": [
      "Mean absolute Error 3882.286425252689\n",
      "Mean squared error 33304281.80976962\n",
      "('Explained variance score', 0.002764998801576435)\n",
      "('R_2 score', -0.8216296376738408)\n"
     ]
    }
   ],
   "source": [
    "print('Mean absolute Error',mean_absolute_error(y_true, y_pred))\n",
    "print('Mean squared error', mean_squared_error(y_true, y_pred))\n",
    "print(('Explained variance score',explained_variance_score(y_true, y_pred)))\n",
    "print(('R_2 score',r2_score(y_true, y_pred)))"
   ]
  },
  {
   "cell_type": "markdown",
   "metadata": {},
   "source": [
    "### Changing the penatly term\n",
    "\n",
    "Changing the penalty term from `l2` to `l1`. Improved results quite a bit. "
   ]
  },
  {
   "cell_type": "code",
   "execution_count": 11,
   "metadata": {},
   "outputs": [],
   "source": [
    "reg = make_pipeline(StandardScaler(),\n",
    "                    SGDRegressor(penalty='l1'))\n",
    "y_pred=reg.fit(X_train, y_train).predict(X_test)"
   ]
  },
  {
   "cell_type": "code",
   "execution_count": 12,
   "metadata": {},
   "outputs": [
    {
     "data": {
      "text/html": [
       "<div>\n",
       "<style scoped>\n",
       "    .dataframe tbody tr th:only-of-type {\n",
       "        vertical-align: middle;\n",
       "    }\n",
       "\n",
       "    .dataframe tbody tr th {\n",
       "        vertical-align: top;\n",
       "    }\n",
       "\n",
       "    .dataframe thead th {\n",
       "        text-align: right;\n",
       "    }\n",
       "</style>\n",
       "<table border=\"1\" class=\"dataframe\">\n",
       "  <thead>\n",
       "    <tr style=\"text-align: right;\">\n",
       "      <th></th>\n",
       "      <th>true</th>\n",
       "      <th>predicted</th>\n",
       "      <th>how_off</th>\n",
       "    </tr>\n",
       "  </thead>\n",
       "  <tbody>\n",
       "    <tr>\n",
       "      <th>0</th>\n",
       "      <td>958.10</td>\n",
       "      <td>957.74</td>\n",
       "      <td>0.04</td>\n",
       "    </tr>\n",
       "    <tr>\n",
       "      <th>1</th>\n",
       "      <td>623.90</td>\n",
       "      <td>624.00</td>\n",
       "      <td>-0.02</td>\n",
       "    </tr>\n",
       "  </tbody>\n",
       "</table>\n",
       "</div>"
      ],
      "text/plain": [
       "    true  predicted  how_off\n",
       "0 958.10     957.74     0.04\n",
       "1 623.90     624.00    -0.02"
      ]
     },
     "execution_count": 12,
     "metadata": {},
     "output_type": "execute_result"
    }
   ],
   "source": [
    "y_true =y_test\n",
    "results_trial1=pd.DataFrame(y_pred,y_true).reset_index()\n",
    "results_trial1=pd.DataFrame(y_pred,y_true).reset_index()\n",
    "results_trial1=results_trial1.rename(columns={'Data_x':'true',0:'predicted'})\n",
    "results_trial1['how_off']= ((results_trial1['true']-results_trial1['predicted'])/results_trial1['true'])*100\n",
    "results_trial1.head(2)"
   ]
  },
  {
   "cell_type": "code",
   "execution_count": 13,
   "metadata": {},
   "outputs": [
    {
     "name": "stdout",
     "output_type": "stream",
     "text": [
      "Mean absolute Error 0.9515905031620266\n",
      "Mean squared error 1.394251383994719\n",
      "('Explained variance score', 0.9999999510717904)\n",
      "('R_2 score', 0.999999923739246)\n"
     ]
    }
   ],
   "source": [
    "print('Mean absolute Error',mean_absolute_error(y_true, y_pred))\n",
    "print('Mean squared error', mean_squared_error(y_true, y_pred))\n",
    "print(('Explained variance score',explained_variance_score(y_true, y_pred)))\n",
    "print(('R_2 score',r2_score(y_true, y_pred)))"
   ]
  },
  {
   "cell_type": "markdown",
   "metadata": {},
   "source": [
    "# Results\n",
    "Pretty straightforward actually. \n",
    "\n",
    "\n",
    "The SVR performed very well. With a prediction accuracy of 100%.\n",
    "The `MAE` was 0.9834673843854801\\\n",
    "The `MSE` was 1.5266552927792496\\\n",
    "The `Explained variance` was 0.9999999450342941\\\n",
    "The $ R^2 $ was 0.9999999164972077"
   ]
  },
  {
   "cell_type": "code",
   "execution_count": null,
   "metadata": {},
   "outputs": [],
   "source": []
  }
 ],
 "metadata": {
  "kernelspec": {
   "display_name": "Python 3",
   "language": "python",
   "name": "python3"
  },
  "language_info": {
   "codemirror_mode": {
    "name": "ipython",
    "version": 3
   },
   "file_extension": ".py",
   "mimetype": "text/x-python",
   "name": "python",
   "nbconvert_exporter": "python",
   "pygments_lexer": "ipython3",
   "version": "3.12.2"
  }
 },
 "nbformat": 4,
 "nbformat_minor": 2
}
